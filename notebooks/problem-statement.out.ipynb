{
 "cells": [
  {
   "cell_type": "markdown",
   "metadata": {},
   "source": [
    "# A study on Automatic Turning of Denoising Algorithm Parameters in\n",
    "\n",
    "Medical Images\n",
    "\n",
    "Siju K S (Research Scholar, Center for Computational Engineering & Networking, Amrita Vishwa Vidyapeetham)\n",
    "\n",
    "# Problem Statement for the Research Work\n",
    "\n",
    "Noise presents a major barrier to accurate interpretation in medical imaging, particularly in resource-limited healthcare environments where access to advanced, noise-resistant imaging technologies remains restricted. Despite the efficiency of modern high-resolution imaging systems like MRI and CT in reducing noise, their high cost and limited availability prevent widespread implementation, especially in public health infrastructures. Thus, enhancing the diagnostic quality of existing imaging modalities via advanced denoising methods is both an essential and sustainable solution for improving global healthcare.\n",
    "\n",
    "Conventional denoising algorithms ([Dogra, Agrawal, and Sohi 2018](#ref-dogra2018survey)), especially deep learning-based approaches, often rely on the availability of clean, noise-free reference images for training ([Xu et al. 2020](#ref-9210208)). In medical imaging, such ground-truth data is rarely available, complicating efforts to denoise noisy medical scans effectively. Recent research has explored automated approaches to optimize denoising parameters. For instance, Zhu and Milanfar ([Zhu and Milanfar 2010](#ref-5484579)) developed a no-reference measure for automatic parameter selection, while Ramani et al. ([Ramani, Blu, and Unser 2008](#ref-4598837)) proposed Monte-Carlo optimization for regularization parameters. Although recent works—such as `Noise2Noise`, `Noisier2Noise`, and `Recorrupted-to-Recorrupted`—have demonstrated success in learning from noisy data without clean references, they remain largely constrained to synthetic and general-purpose image datasets with training phases (([Lehtinen 2018](#ref-lehtinen2018noise2noise)); ([Moran et al. 2020](#ref-9156650)); ([Pang et al. 2021](#ref-9577798))). The complexity and specificity of medical image noise, often non-linear in nature, present challenges these methods are ill-equipped to handle.\n",
    "\n",
    "In their recent work, Floquet et al.([Floquet et al. 2024](#ref-floquet:hal-04344047)) introduced an automatic tuning mechanism for denoising algorithms that circumvents the need for ground-truth images, employing Mean Squared Error (MSE) as the loss function and optimizing through gradient descent. While this approach has demonstrated effectiveness on datasets such as BSD400, particularly in linear noise scenarios, its gradient-based optimization framework faces challenges when applied to non-linear noise models, which are prevalent in medical images.\n",
    "\n",
    "Building on this foundation, we propose to extend Floquet et al.’s framework to tackle non-linear noise by incorporating nature-inspired optimization methods—such as genetic algorithms and particle swarm optimization. These techniques are well-suited for complex, non-linear optimization landscapes, overcoming the limitations posed by gradient descent. Our approach aims to enhance the robustness of denoising algorithms, particularly in the context of medical imaging, where noise is often more intricate, and ground-truth clean images are typically unavailable. This advancement holds potential not only for improved diagnostic accuracy but also for making high-quality medical imaging more accessible in resource-constrained healthcare environments, aligning with broader goals of sustainability and equity in global health systems.\n",
    "\n",
    "# References\n",
    "\n",
    "Dogra, Bhawna Goyal Ayush, Sunil Agrawal, and BS Sohi. 2018. “A Survey on the Image Denoising to Enhance Medical Images.” *Biosciences Biotechnology Research Asia* 15 (3): 501. https://doi.org/<http://dx.doi.org/10.13005/bbra/2655>.\n",
    "\n",
    "Floquet, Arthur, Sayantan Dutta, Emmanuel Soubies, Duong-Hung Pham, Denis Kouamé, and Denis Kouame. 2024. “<span class=\"nocase\">Automatic Tuning of Denoising Algorithms Parameters without Ground Truth</span>.” *IEEE Signal Processing Letters* 31 (January): 381–85. <https://doi.org/10.1109/LSP.2024.3354554>.\n",
    "\n",
    "Lehtinen, J. 2018. “Noise2noise: Learning Image Restoration Without Clean Data.” *arXiv Preprint arXiv:1803.04189*.\n",
    "\n",
    "Moran, Nick, Dan Schmidt, Yu Zhong, and Patrick Coady. 2020. “Noisier2Noise: Learning to Denoise from Unpaired Noisy Data.” In *2020 IEEE/CVF Conference on Computer Vision and Pattern Recognition (CVPR)*, 12061–69. <https://doi.org/10.1109/CVPR42600.2020.01208>.\n",
    "\n",
    "Pang, Tongyao, Huan Zheng, Yuhui Quan, and Hui Ji. 2021. “Recorrupted-to-Recorrupted: Unsupervised Deep Learning for Image Denoising.” In *2021 IEEE/CVF Conference on Computer Vision and Pattern Recognition (CVPR)*, 2043–52. <https://doi.org/10.1109/CVPR46437.2021.00208>.\n",
    "\n",
    "Ramani, Sathish, Thierry Blu, and Michael Unser. 2008. “Monte-Carlo Sure: A Black-Box Optimization of Regularization Parameters for General Denoising Algorithms.” *IEEE Transactions on Image Processing* 17 (9): 1540–54. <https://doi.org/10.1109/TIP.2008.2001404>.\n",
    "\n",
    "Xu, Jun, Yuan Huang, Ming-Ming Cheng, Li Liu, Fan Zhu, Zhou Xu, and Ling Shao. 2020. “Noisy-as-Clean: Learning Self-Supervised Denoising from Corrupted Image.” *IEEE Transactions on Image Processing* 29: 9316–29. <https://doi.org/10.1109/TIP.2020.3026622>.\n",
    "\n",
    "Zhu, Xiang, and Peyman Milanfar. 2010. “Automatic Parameter Selection for Denoising Algorithms Using a No-Reference Measure of Image Content.” *IEEE Transactions on Image Processing* 19 (12): 3116–32. <https://doi.org/10.1109/TIP.2010.2052820>."
   ],
   "id": "51728e73-861d-4624-b73d-7ca9fb5949f3"
  }
 ],
 "nbformat": 4,
 "nbformat_minor": 5,
 "metadata": {}
}
